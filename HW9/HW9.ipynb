{
  "cells": [
    {
      "cell_type": "markdown",
      "metadata": {
        "id": "hhJ8TbQWZonA"
      },
      "source": [
        "# HomeWork 9\n",
        "\n",
        "**DeadLine : 23:59 19 Azar 1401**\n",
        "\n",
        "**Total points : 100pts**\n"
      ]
    },
    {
      "cell_type": "markdown",
      "metadata": {
        "id": "GAMvBlAzZonI"
      },
      "source": [
        "Import some prerequisites:"
      ]
    },
    {
      "cell_type": "code",
      "execution_count": null,
      "metadata": {
        "scrolled": true,
        "id": "7B9D-UF_ZonJ"
      },
      "outputs": [],
      "source": [
        "import cv2\n",
        "import numpy as np\n",
        "import matplotlib.pyplot as plt"
      ]
    },
    {
      "cell_type": "markdown",
      "metadata": {
        "id": "viSODgxHZonL"
      },
      "source": [
        "Run this cell for plotting."
      ]
    },
    {
      "cell_type": "code",
      "execution_count": null,
      "metadata": {
        "id": "yJ4dfAnxZonL"
      },
      "outputs": [],
      "source": [
        "def plotter(img_list, r, w, gray, wr, hr, fig_name = None):\n",
        "    '''\n",
        "    Plots images' list with its' caption and saves result image if you want.\n",
        "\n",
        "    Parameters:\n",
        "        img_list (list): The list of tuples of image and its' caption.\n",
        "        r (int): The number of row(s).\n",
        "        w (int): The number of colunm(s).\n",
        "        gray (bool): The flag for plotting images in grayscale mode.\n",
        "        wr (int): The width of one figure.\n",
        "        hr (int): The height of one figure.\n",
        "        fig_name (str): The name of the image of the plot. if not set this parameter the plot doesn't save.\n",
        "    '''\n",
        "    \n",
        "    plt.rcParams['figure.figsize'] = (wr, hr)\n",
        "    for i in range(len(img_list)):\n",
        "        plt.subplot(r, w, i + 1)\n",
        "        if img_list[i][2] == 'img':\n",
        "            if gray:\n",
        "                plt.imshow(img_list[i][0], cmap = 'gray')\n",
        "            else:\n",
        "                plt.imshow(img_list[i][0])\n",
        "            plt.xticks([])\n",
        "            plt.yticks([])\n",
        "        elif img_list[i][2] == 'hist':\n",
        "            plt.bar(np.arange(len(img_list[i][0])), img_list[i][0], color = 'c')\n",
        "        else:\n",
        "            raise Exception(\"Only image or histogram. Use third parameter of tuples in img_list and set it to img or hist.\")\n",
        "        plt.title(img_list[i][1])\n",
        "    if fig_name is not None:\n",
        "        plt.savefig(fig_name + '.png')\n",
        "    plt.show()"
      ]
    },
    {
      "cell_type": "markdown",
      "metadata": {
        "id": "EXXsMqE5ZonN"
      },
      "source": [
        "# PART 3\n",
        "\n",
        "**Point : 35 pts**"
      ]
    },
    {
      "cell_type": "markdown",
      "metadata": {
        "id": "l3IuG4M6ZonO"
      },
      "source": [
        "Here is for your helper functions(optional)."
      ]
    },
    {
      "cell_type": "code",
      "execution_count": null,
      "metadata": {
        "id": "eZUz7WiIZonO"
      },
      "outputs": [],
      "source": []
    },
    {
      "cell_type": "markdown",
      "metadata": {
        "id": "CFhTrSKJZonP"
      },
      "source": [
        "Implement this function to get the input image and return the skeleton of the input image."
      ]
    },
    {
      "cell_type": "code",
      "execution_count": null,
      "metadata": {
        "id": "qqGEjrdxZonP"
      },
      "outputs": [],
      "source": [
        "def get_skeleton(image):\n",
        "    \"\"\"\n",
        "    Finds the skeleton of the input image.\n",
        "    \n",
        "    Parameters:\n",
        "        image (numpy.ndarray): The input image.\n",
        "    \n",
        "    Returns:\n",
        "        numpy.ndarray: The skeleton image.  \n",
        "        numpy.ndarray: The parameters required for reconstructing image\n",
        "    \"\"\"\n",
        "    \n",
        "    res = image.copy()\n",
        "    params = None\n",
        "    \n",
        "    #Write your code here\n",
        "    \n",
        "    \n",
        "    return res, params"
      ]
    },
    {
      "cell_type": "markdown",
      "metadata": {
        "id": "aJ09GADjZonQ"
      },
      "source": [
        "Test your implementation (don't change this cell)."
      ]
    },
    {
      "cell_type": "code",
      "execution_count": null,
      "metadata": {
        "id": "HgsmPGkzZonS"
      },
      "outputs": [],
      "source": [
        "image_list = []\n",
        "\n",
        "image1 = cv2.imread('img1.jpg', cv2.IMREAD_GRAYSCALE)\n",
        "image_list.append([image1, 'image 1', 'img'])\n",
        "image1_skeleton, params1 = get_skeleton(image1)\n",
        "image_list.append([image1_skeleton, 'skeleton of image 1','img'])\n",
        "\n",
        "image2 = cv2.imread('img2.jpg', cv2.IMREAD_GRAYSCALE)\n",
        "image_list.append([image2, 'image 2', 'img'])\n",
        "image2_skeleton, params2 = get_skeleton(image2)\n",
        "image_list.append([image2_skeleton, 'skeleton of image 2','img'])\n",
        "\n",
        "image3 = cv2.imread('img3.jpg', cv2.IMREAD_GRAYSCALE)\n",
        "image_list.append([image3, 'image 3', 'img'])\n",
        "image3_skeleton, params3 = get_skeleton(image3)\n",
        "image_list.append([image3_skeleton, 'skeleton of image 3', 'img'])\n",
        "\n",
        "image4 = cv2.imread('img4.jpg', cv2.IMREAD_GRAYSCALE)\n",
        "image_list.append([image4, 'image 4', 'img'])\n",
        "image4_skeleton, params4 = get_skeleton(image4)\n",
        "image_list.append([image4_skeleton, 'skeleton of image 4', 'img'])\n",
        "\n",
        "plotter(image_list, 4, 2, True, 10, 10, 'Q3-a')"
      ]
    },
    {
      "cell_type": "markdown",
      "source": [
        "Implement this function to get the input image as skeleton and return the reconstruction of the skeleton."
      ],
      "metadata": {
        "id": "kT-v7hRTgAYp"
      }
    },
    {
      "cell_type": "code",
      "source": [
        "def recons_skeleton(image, params):\n",
        "    \"\"\"\n",
        "    Finds the original image from the skeleton.\n",
        "    \n",
        "    Parameters:\n",
        "        image (numpy.ndarray): The skeleton of image.\n",
        "        params (numpy.ndarray): The parameters required for reconstructing image\n",
        "    \n",
        "    Returns:\n",
        "        numpy.ndarray: The original image.  \n",
        "    \"\"\"\n",
        "    \n",
        "    res = image.copy()\n",
        "    \n",
        "    #Write your code here\n",
        "    \n",
        "    \n",
        "    return res"
      ],
      "metadata": {
        "id": "7QqbhzRrf93B"
      },
      "execution_count": null,
      "outputs": []
    },
    {
      "cell_type": "markdown",
      "source": [
        "Test your implementation (don't change this cell)."
      ],
      "metadata": {
        "id": "lnPhgWYDgpee"
      }
    },
    {
      "cell_type": "code",
      "source": [
        "image_list = []\n",
        "\n",
        "image_list.append([image1_skeleton, 'skeleton of image 1', 'img'])\n",
        "image_list.append([recons_skeleton(image1_skeleton, params1), 'image 1','img'])\n",
        "\n",
        "image_list.append([image2_skeleton, 'skeleton of image 2', 'img'])\n",
        "image_list.append([recons_skeleton(image2_skeleton, params2), 'image 2','img'])\n",
        "\n",
        "image_list.append([image3_skeleton, 'skeleton of image 3', 'img'])\n",
        "image_list.append([recons_skeleton(image3_skeleton, params3), 'image 3', 'img'])\n",
        "\n",
        "image_list.append([image4_skeleton, 'skeleton of image 4', 'img'])\n",
        "image_list.append([recons_skeleton(image4_skeleton, params4), 'image 4', 'img'])\n",
        "\n",
        "plotter(image_list, 4, 2, True, 10, 10, 'Q3-b')"
      ],
      "metadata": {
        "id": "7cwurcx7gock"
      },
      "execution_count": null,
      "outputs": []
    },
    {
      "cell_type": "markdown",
      "metadata": {
        "id": "whJlT29nZonT"
      },
      "source": [
        "# PART 4\n",
        "\n",
        "**Point : 30 pts**"
      ]
    },
    {
      "cell_type": "markdown",
      "metadata": {
        "id": "txOVB035ZonT"
      },
      "source": [
        "Here is for your helper functions(optional)."
      ]
    },
    {
      "cell_type": "code",
      "execution_count": null,
      "metadata": {
        "id": "HSIySZl5ZonU"
      },
      "outputs": [],
      "source": []
    },
    {
      "cell_type": "markdown",
      "metadata": {
        "id": "MiE0cgmBZonW"
      },
      "source": [
        "Implement this function to detect shapes and number of cars in an input image."
      ]
    },
    {
      "cell_type": "code",
      "execution_count": null,
      "metadata": {
        "id": "sALCixIAZonW"
      },
      "outputs": [],
      "source": [
        "def detect_car_num(image):\n",
        "    '''\n",
        "    Detects shapes and number of cars in the input image.\n",
        "    \n",
        "    Parameters:\n",
        "        image (numpy.ndarray): The input image.\n",
        "    \n",
        "    Returns:\n",
        "        numpy.ndarray: The result image.\n",
        "        integer: number of cars\n",
        "    '''\n",
        "    \n",
        "    result = image.copy()\n",
        "    cars_num = None\n",
        "    \n",
        "    #Write your code here\n",
        "    \n",
        "    \n",
        "    return result,cars_num"
      ]
    },
    {
      "cell_type": "markdown",
      "source": [
        "Test your implementation (don't change this cell)."
      ],
      "metadata": {
        "id": "JbqSnbXind38"
      }
    },
    {
      "cell_type": "code",
      "source": [
        "image_list = []\n",
        "image = cv2.imread('img5.jpg', cv2.IMREAD_COLOR)\n",
        "image_list.append([image, 'source', 'img'])\n",
        "image_list.append([detect_car_num(image)[0], 'cars detection', 'img'])\n",
        "plotter(image_list, 1, 2, True, 8, 6, 'Q4-a')"
      ],
      "metadata": {
        "id": "quZOWEt7ncpH"
      },
      "execution_count": null,
      "outputs": []
    },
    {
      "cell_type": "markdown",
      "source": [
        "Implement this function to detect shapes and number of flowers in an input image."
      ],
      "metadata": {
        "id": "nnjrJtcFmbfr"
      }
    },
    {
      "cell_type": "code",
      "source": [
        "def detect_flower_num(image):\n",
        "    '''\n",
        "    Detects shapes and number of flowers in the input image.\n",
        "    \n",
        "    Parameters:\n",
        "        image (numpy.ndarray): The input image.\n",
        "    \n",
        "    Returns:\n",
        "        numpy.ndarray: The result image.\n",
        "        integer: number of flowers\n",
        "    '''\n",
        "    \n",
        "    result = image.copy()\n",
        "    flowers_num = None\n",
        "    \n",
        "    #Write your code here\n",
        "    \n",
        "    \n",
        "    return result,flowers_num"
      ],
      "metadata": {
        "id": "YpPnr0IkmVag"
      },
      "execution_count": null,
      "outputs": []
    },
    {
      "cell_type": "markdown",
      "metadata": {
        "id": "jwMgKLXJZonY"
      },
      "source": [
        "Test your implementation (don't change this cell)."
      ]
    },
    {
      "cell_type": "code",
      "execution_count": null,
      "metadata": {
        "id": "Cz1eDXuPZonY"
      },
      "outputs": [],
      "source": [
        "image_list = []\n",
        "image = cv2.imread('img6.jpg', cv2.IMREAD_COLOR)\n",
        "image_list.append([image, 'source', 'img'])\n",
        "image_list.append([detect_flower_num(image)[0], 'flowers detection', 'img'])\n",
        "plotter(image_list, 1, 2, True, 8, 6, 'Q4-b')"
      ]
    },
    {
      "cell_type": "markdown",
      "metadata": {
        "id": "EfdRB2DpZonZ"
      },
      "source": [
        "End!!!"
      ]
    }
  ],
  "metadata": {
    "kernelspec": {
      "display_name": "Python 3",
      "language": "python",
      "name": "python3"
    },
    "language_info": {
      "codemirror_mode": {
        "name": "ipython",
        "version": 3
      },
      "file_extension": ".py",
      "mimetype": "text/x-python",
      "name": "python",
      "nbconvert_exporter": "python",
      "pygments_lexer": "ipython3",
      "version": "3.7.4"
    },
    "toc": {
      "base_numbering": 1,
      "nav_menu": {},
      "number_sections": true,
      "sideBar": true,
      "skip_h1_title": false,
      "title_cell": "Table of Contents",
      "title_sidebar": "Contents",
      "toc_cell": false,
      "toc_position": {},
      "toc_section_display": true,
      "toc_window_display": false
    },
    "colab": {
      "provenance": []
    }
  },
  "nbformat": 4,
  "nbformat_minor": 0
}