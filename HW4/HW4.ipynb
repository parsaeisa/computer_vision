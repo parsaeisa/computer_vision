{
  "cells": [
    {
      "cell_type": "markdown",
      "metadata": {
        "id": "d24KZusq6kfU"
      },
      "source": [
        "# Setup"
      ]
    },
    {
      "cell_type": "code",
      "execution_count": 1,
      "metadata": {
        "collapsed": true,
        "id": "hudl0IbA6kfh"
      },
      "outputs": [],
      "source": [
        "import cv2\n",
        "import numpy as np\n",
        "import math\n",
        "import matplotlib.pyplot as plt"
      ]
    },
    {
      "cell_type": "markdown",
      "metadata": {
        "id": "XzAIRqeX6kfk"
      },
      "source": [
        "# Q3\n",
        "\n",
        "## Part A\n",
        "\n",
        "Complete the implementation for the following function using basic operations only.\n",
        "Note that the point of this problem is for you to understand how convolution works. We don't care about optimality."
      ]
    },
    {
      "cell_type": "code",
      "execution_count": null,
      "metadata": {
        "id": "817w7Bv96kfm"
      },
      "outputs": [],
      "source": [
        "def filter_2d(image, kernel):\n",
        "    \"\"\"\n",
        "    Convolves an image with the kernel, applying zero-padding to maintain the size of the image.\n",
        "\n",
        "    Parameters\n",
        "    ----------\n",
        "    image: ndarray\n",
        "        2D array, representing a grayscale image.\n",
        "    kernel: ndarray\n",
        "        2D array, representing a linear kernel.\n",
        "    Returns\n",
        "    -------\n",
        "    ndarray\n",
        "        The result of convolving `image` with `kernel`.\n",
        "    \"\"\"\n",
        "    result = np.zeros(image.shape)\n",
        "    ########################\n",
        "    # Your code goes here. #\n",
        "    ########################\n",
        "    return result"
      ]
    },
    {
      "cell_type": "markdown",
      "metadata": {
        "id": "a4w-MXQw6kfo"
      },
      "source": [
        "## Part B\n",
        "\n",
        "Complete the implementation for the following function."
      ]
    },
    {
      "cell_type": "code",
      "execution_count": null,
      "metadata": {
        "id": "a2uBTFr86kfo"
      },
      "outputs": [],
      "source": [
        "def averaging_kernel(size):\n",
        "    \"\"\"\n",
        "    Returns an averaging kernel with the specified size.\n",
        "\n",
        "    Parameters\n",
        "    ----------\n",
        "    size: int\n",
        "        Width and height of the kernel.\n",
        "\n",
        "    Returns\n",
        "    -------\n",
        "    ndarray\n",
        "        The averaging kernel.\n",
        "    \"\"\"\n",
        "    result = np.ones((size, size))\n",
        "    ########################\n",
        "    # Your code goes here. #\n",
        "    ########################\n",
        "    return result"
      ]
    },
    {
      "cell_type": "markdown",
      "metadata": {
        "id": "m5MxHNhl6kfr"
      },
      "source": [
        "Using the function you have just defined, try to smooth out the noise in the following image.\n",
        "Try out various window sizes and analyze the results."
      ]
    },
    {
      "cell_type": "code",
      "execution_count": null,
      "metadata": {
        "id": "xNhco-k36kft"
      },
      "outputs": [],
      "source": [
        "im = cv2.imread('images/salt_and_pepper_low.jpeg')\n",
        "plt.imshow(im)\n",
        "plt.axis('off')"
      ]
    },
    {
      "cell_type": "code",
      "execution_count": null,
      "metadata": {
        "id": "ffFe_DaN6kfu"
      },
      "outputs": [],
      "source": [
        "kernel = averaging_kernel(3)\n",
        "im_smoothed = filter_2d(im, kernel)\n",
        "plt.imshow(im_smoothed)\n",
        "plt.axis('off')"
      ]
    },
    {
      "cell_type": "markdown",
      "metadata": {
        "id": "H3RzzJae6kfw"
      },
      "source": [
        "## Part C\n",
        "\n",
        "An averaging filter isn't enough for the next image you have to deal with. Instead, modify your implementation for `filter_2d` to instead calculate the non-linear **median** filter and try to smooth out this image.\n",
        "You are encouraged to try out different kernel sizes."
      ]
    },
    {
      "cell_type": "code",
      "execution_count": null,
      "metadata": {
        "id": "-K8C1bpX6kfz"
      },
      "outputs": [],
      "source": [
        "def median_filter(image, size):\n",
        "    \"\"\"\n",
        "    Applies the median filter to the image with the given window size.\n",
        "\n",
        "    Parameters\n",
        "    ----------\n",
        "    image: ndarray\n",
        "        2D array, representing a grayscale image.\n",
        "    size: int\n",
        "        Size of the window for median calculation.\n",
        "    Returns\n",
        "    -------\n",
        "    ndarray\n",
        "        The result of convolving `image` with `kernel`.\n",
        "    \"\"\"\n",
        "    result = np.zeros(image.shape)\n",
        "    ########################\n",
        "    # Your code goes here. #\n",
        "    ########################\n",
        "    return result"
      ]
    },
    {
      "cell_type": "code",
      "execution_count": null,
      "metadata": {
        "id": "BXJFbXbu6kf1"
      },
      "outputs": [],
      "source": [
        "im = cv2.imread('images/salt_and_pepper_high.jpeg')\n",
        "plt.imshow(im)\n",
        "plt.axis('off')"
      ]
    },
    {
      "cell_type": "code",
      "execution_count": null,
      "metadata": {
        "id": "sveJYVQM6kf2"
      },
      "outputs": [],
      "source": [
        "im_smoothed = median_filter(im, size=3)\n",
        "plt.imshow(im_smoothed)\n",
        "plt.axis('off')"
      ]
    },
    {
      "cell_type": "markdown",
      "metadata": {
        "id": "hEB6IGOp6kf3"
      },
      "source": [
        "## Part D\n",
        "\n",
        "Based on the equation presented for the derivative of an image in slide 18, create a 3x3 filter to calculate it using `filter_2d`.\n",
        "\n",
        "*Hint*: Focus on the derivative along one of the axis only. There will just be 2 non-zero elements in the kernel.\n"
      ]
    },
    {
      "cell_type": "code",
      "execution_count": null,
      "metadata": {
        "id": "Foi_xeI66kf3"
      },
      "outputs": [],
      "source": [
        "derivative_kernel = np.array([\n",
        "    [0, 0, 0],\n",
        "    [0, 0, 0],\n",
        "    [0, 0, 0],\n",
        "])\n",
        "\n",
        "########################\n",
        "# Your code goes here. #\n",
        "########################"
      ]
    },
    {
      "cell_type": "markdown",
      "metadata": {
        "id": "8qZu0M_W6kf4"
      },
      "source": [
        "Apply this kernel to the following image. Can we somehow reduce the effect of noise on the result?"
      ]
    },
    {
      "cell_type": "code",
      "execution_count": null,
      "metadata": {
        "id": "hJUTqobg6kf5"
      },
      "outputs": [],
      "source": [
        "im = cv2.imread('images/cameraman_noisy.png')\n",
        "plt.imshow(im)\n",
        "plt.axis('off')"
      ]
    },
    {
      "cell_type": "code",
      "execution_count": null,
      "metadata": {
        "id": "1kAYOur56kf5"
      },
      "outputs": [],
      "source": [
        "im_smoothed = filter_2d(im, derivative_kernel)\n",
        "plt.imshow(im_smoothed)\n",
        "plt.axis('off')"
      ]
    },
    {
      "cell_type": "markdown",
      "source": [
        "#Q4"
      ],
      "metadata": {
        "id": "czmeDlQm66du"
      }
    },
    {
      "cell_type": "code",
      "source": [
        "def psnr(original, noisy):\n",
        "    \"\"\"\n",
        "    Calculating Peak signal to noise ratio.\n",
        "\n",
        "    ----------\n",
        "    parameters:\n",
        "        original : numpy 2D array, representing a original image.\n",
        "        noisy : numpy 2D array, representing a noisy image.\n",
        "    \n",
        "    return:\n",
        "        PSNR value\n",
        "    \"\"\"\n",
        "    mse = np.mean((original - noisy) ** 2)\n",
        "    if mse == 0:\n",
        "        return 100\n",
        "    PIXEL_MAX = 255.0\n",
        "    psnr_value = 20 * math.log10(PIXEL_MAX / math.sqrt(mse))\n",
        "    return psnr_value"
      ],
      "metadata": {
        "id": "GbRDrRIv68nP"
      },
      "execution_count": 24,
      "outputs": []
    },
    {
      "cell_type": "code",
      "source": [
        "def denoise_image(image):\n",
        "    \"\"\"\n",
        "    Denoises the input image.\n",
        "    ----------\n",
        "    Parameters:\n",
        "        image (numpy.ndarray): The input image.\n",
        "    \n",
        "    Returns:\n",
        "        numpy.ndarray: The result denoised image.   \n",
        "    \"\"\"\n",
        "\n",
        "    denoised = image.copy()\n",
        "    ########################\n",
        "    # Your code goes here. #\n",
        "    ########################\n",
        "\n",
        "    return denoised"
      ],
      "metadata": {
        "id": "G8W3AhTqxQUE"
      },
      "execution_count": 25,
      "outputs": []
    },
    {
      "cell_type": "code",
      "source": [
        "def f(x,y):\n",
        "  return np.sin((1/2)*np.pi*x)+np.cos((1/3)*np.pi*y)"
      ],
      "metadata": {
        "id": "8CwMl5H55DSx"
      },
      "execution_count": 26,
      "outputs": []
    },
    {
      "cell_type": "code",
      "source": [
        "original_image = cv2.imread(\"original_image.png\",0)\n",
        "\n",
        "X,Y = original_image.shape\n",
        "noise = np.zeros((X,Y))\n",
        "for i in range(X):\n",
        "  for j in range(Y):\n",
        "    noise[i,j] = f(i,j)*100\n",
        "\n",
        "noisy_image = original_image + noise\n",
        "\n",
        "plt.imshow(noisy_image)\n",
        "plt.show()\n",
        "\n",
        "denoised_image = denoise_image(noisy_image)\n",
        "\n",
        "print(\"PSNR between noisy image and original image = \",\n",
        "      psnr(original_image,noisy_image))\n",
        "print(\"PSNR between denoised image and original image = \",\n",
        "      psnr(original_image,denoised_image))\n"
      ],
      "metadata": {
        "id": "U2SImlov05nE"
      },
      "execution_count": null,
      "outputs": []
    }
  ],
  "metadata": {
    "kernelspec": {
      "display_name": "Python 3 (ipykernel)",
      "language": "python",
      "name": "python3"
    },
    "language_info": {
      "codemirror_mode": {
        "name": "ipython",
        "version": 3
      },
      "file_extension": ".py",
      "mimetype": "text/x-python",
      "name": "python",
      "nbconvert_exporter": "python",
      "pygments_lexer": "ipython3",
      "version": "3.10.7"
    },
    "colab": {
      "provenance": [],
      "collapsed_sections": []
    }
  },
  "nbformat": 4,
  "nbformat_minor": 0
}