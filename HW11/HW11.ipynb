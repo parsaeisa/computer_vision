{
  "nbformat": 4,
  "nbformat_minor": 0,
  "metadata": {
    "colab": {
      "provenance": []
    },
    "kernelspec": {
      "name": "python3",
      "display_name": "Python 3"
    },
    "language_info": {
      "name": "python"
    },
    "gpuClass": "standard",
    "accelerator": "GPU"
  },
  "cells": [
    {
      "cell_type": "markdown",
      "source": [
        "#Q2"
      ],
      "metadata": {
        "id": "Qq9GTCPRQUec"
      }
    },
    {
      "cell_type": "code",
      "execution_count": 15,
      "metadata": {
        "id": "U6idv-p1IkRv"
      },
      "outputs": [],
      "source": [
        "from tensorflow import keras\n",
        "import numpy as np \n",
        "import matplotlib.pyplot as plt\n",
        "from keras.utils.vis_utils import plot_model\n",
        "from tensorflow.keras.layers import (\n",
        "    Conv2D,\n",
        "    Dense,\n",
        "    Flatten,\n",
        "    MaxPooling2D,\n",
        "    Activation \n",
        ")\n"
      ]
    },
    {
      "cell_type": "code",
      "source": [
        "# Load dataset\n",
        "(x_train, y_train), (x_test, y_test) = keras.datasets.cifar10.load_data()"
      ],
      "metadata": {
        "id": "ZboirzSo5CN5",
        "colab": {
          "base_uri": "https://localhost:8080/"
        },
        "outputId": "3ef029cb-cf6a-4f7f-a851-b802186f1d2f"
      },
      "execution_count": 2,
      "outputs": [
        {
          "output_type": "stream",
          "name": "stdout",
          "text": [
            "Downloading data from https://www.cs.toronto.edu/~kriz/cifar-10-python.tar.gz\n",
            "170498071/170498071 [==============================] - 13s 0us/step\n"
          ]
        }
      ]
    },
    {
      "cell_type": "code",
      "source": [
        "# Normalize data\n",
        "x_train = x_train.astype(float) / 255.\n",
        "x_test  = x_test.astype(float) / 255."
      ],
      "metadata": {
        "id": "FMYYX-aS5DPw"
      },
      "execution_count": 3,
      "outputs": []
    },
    {
      "cell_type": "code",
      "source": [
        "# Visualize data\n",
        "plt.imshow(x_train[np.random.randint(len(x_train))])\n",
        "plt.show()"
      ],
      "metadata": {
        "id": "TBMtjNQ96dwI",
        "colab": {
          "base_uri": "https://localhost:8080/",
          "height": 266
        },
        "outputId": "5bc98b7f-d496-41dd-ea6f-869170099f36"
      },
      "execution_count": 4,
      "outputs": [
        {
          "output_type": "display_data",
          "data": {
            "text/plain": [
              "<Figure size 432x288 with 1 Axes>"
            ],
            "image/png": "[encoded data removed]"
          },
          "metadata": {
            "needs_background": "light"
          }
        }
      ]
    },
    {
      "cell_type": "code",
      "source": [
        "# Convert class vectors to binary class matrices.\n",
        "num_classes = 10\n",
        "print(\"Y[0] before converting : \" , y_train[0])\n",
        "y_train = keras.utils.to_categorical(y_train, num_classes)\n",
        "y_test = keras.utils.to_categorical(y_test, num_classes)\n",
        "print(\"Y[0] after converting : \" , y_train[0]) "
      ],
      "metadata": {
        "id": "tgo_K2Ve5IGT",
        "colab": {
          "base_uri": "https://localhost:8080/"
        },
        "outputId": "e3203fed-e9d9-4c2c-ba8c-038a1927830d"
      },
      "execution_count": 5,
      "outputs": [
        {
          "output_type": "stream",
          "name": "stdout",
          "text": [
            "Y[0] before converting :  [6]\n",
            "Y[0] after converting :  [0. 0. 0. 0. 0. 0. 1. 0. 0. 0.]\n"
          ]
        }
      ]
    },
    {
      "cell_type": "code",
      "source": [
        "# Fully connected model\n",
        "fc_model = keras.Sequential()\n",
        "fc_model.add(keras.layers.Input(shape=x_train[0].shape))\n",
        "# Write your code here \n",
        "# Add Flatten layer and few Dense layers\n",
        "fc_model.add(Flatten())\n",
        "\n",
        "fc_model.add(Dense(units=20))\n",
        "fc_model.add(Activation('relu'))\n",
        "\n",
        "fc_model.add(Dense(units=10))\n",
        "fc_model.add(Activation('relu'))\n",
        "\n",
        "fc_model.summary()"
      ],
      "metadata": {
        "id": "UaFaTOUC5RRK",
        "colab": {
          "base_uri": "https://localhost:8080/"
        },
        "outputId": "52e3a79c-4daa-4fcb-8758-2ec59852e025"
      },
      "execution_count": 34,
      "outputs": [
        {
          "output_type": "stream",
          "name": "stdout",
          "text": [
            "Model: \"sequential_21\"\n",
            "_________________________________________________________________\n",
            " Layer (type)                Output Shape              Param #   \n",
            "=================================================================\n",
            " flatten_20 (Flatten)        (None, 3072)              0         \n",
            "                                                                 \n",
            " dense_18 (Dense)            (None, 20)                61460     \n",
            "                                                                 \n",
            " activation_18 (Activation)  (None, 20)                0         \n",
            "                                                                 \n",
            " dense_19 (Dense)            (None, 10)                210       \n",
            "                                                                 \n",
            " activation_19 (Activation)  (None, 10)                0         \n",
            "                                                                 \n",
            "=================================================================\n",
            "Total params: 61,670\n",
            "Trainable params: 61,670\n",
            "Non-trainable params: 0\n",
            "_________________________________________________________________\n"
          ]
        }
      ]
    },
    {
      "cell_type": "code",
      "source": [
        "plot_model(fc_model)"
      ],
      "metadata": {
        "id": "ffCa9BFA8VKj",
        "colab": {
          "base_uri": "https://localhost:8080/",
          "height": 564
        },
        "outputId": "365680c2-d04f-4f5a-eff4-5cae771b4404"
      },
      "execution_count": 35,
      "outputs": [
        {
          "output_type": "execute_result",
          "data": {
            "image/png": "[encoded data removed]",
            "text/plain": [
              "<IPython.core.display.Image object>"
            ]
          },
          "metadata": {},
          "execution_count": 35
        }
      ]
    },
    {
      "cell_type": "code",
      "source": [
        "Conv_model = keras.Sequential()\n",
        "Conv_model.add(keras.layers.Input(shape=x_train[0].shape))\n",
        "# write your code here\n",
        "# add few Conv layers and Flatten layer\n",
        "fc_model.add(Flatten())\n",
        "Conv_model.add(\n",
        "    Conv2D(\n",
        "          filters=16,\n",
        "          kernel_size=7,\n",
        "          padding= 'valid',\n",
        "          strides = 1 ,\n",
        "          activation='relu',\n",
        "      )\n",
        ")\n",
        "\n",
        "Conv_model.add(\n",
        "    Conv2D(\n",
        "          filters=16,\n",
        "          kernel_size=7,\n",
        "          padding= 'valid',\n",
        "          strides = 1 ,\n",
        "          activation='relu',\n",
        "      )\n",
        ")\n",
        "Conv_model.add(\n",
        "    MaxPooling2D(pool_size=(2,2), strides = None ,\n",
        "                 padding = 'valid' )\n",
        ")\n",
        "\n",
        "Conv_model.add(\n",
        "    Conv2D(\n",
        "          filters=16,\n",
        "          kernel_size=7,\n",
        "          padding= 'valid',\n",
        "          strides = 1 ,\n",
        "          activation='relu',\n",
        "      )\n",
        ")\n",
        "\n",
        "Conv_model.add(\n",
        "    MaxPooling2D(pool_size=(2,2), strides = None ,\n",
        "                 padding = 'valid' )\n",
        ")\n",
        "\n",
        "Conv_model.add(Flatten())\n",
        "\n",
        "Conv_model.add(Dense(units=10))\n",
        "Conv_model.add(Activation('relu'))\n",
        "\n",
        "# you can use pool layers after Conv layers\n",
        "Conv_model.summary()"
      ],
      "metadata": {
        "id": "zKlhESuB5QGW",
        "colab": {
          "base_uri": "https://localhost:8080/"
        },
        "outputId": "e9639f8a-b546-42d0-b6e0-79b850e7ddab"
      },
      "execution_count": 38,
      "outputs": [
        {
          "output_type": "stream",
          "name": "stdout",
          "text": [
            "Model: \"sequential_22\"\n",
            "_________________________________________________________________\n",
            " Layer (type)                Output Shape              Param #   \n",
            "=================================================================\n",
            " conv2d_33 (Conv2D)          (None, 26, 26, 16)        2368      \n",
            "                                                                 \n",
            " conv2d_34 (Conv2D)          (None, 20, 20, 16)        12560     \n",
            "                                                                 \n",
            " max_pooling2d_14 (MaxPoolin  (None, 10, 10, 16)       0         \n",
            " g2D)                                                            \n",
            "                                                                 \n",
            " conv2d_35 (Conv2D)          (None, 4, 4, 16)          12560     \n",
            "                                                                 \n",
            " max_pooling2d_15 (MaxPoolin  (None, 2, 2, 16)         0         \n",
            " g2D)                                                            \n",
            "                                                                 \n",
            " flatten_22 (Flatten)        (None, 64)                0         \n",
            "                                                                 \n",
            " dense_20 (Dense)            (None, 10)                650       \n",
            "                                                                 \n",
            " activation_20 (Activation)  (None, 10)                0         \n",
            "                                                                 \n",
            "=================================================================\n",
            "Total params: 28,138\n",
            "Trainable params: 28,138\n",
            "Non-trainable params: 0\n",
            "_________________________________________________________________\n"
          ]
        }
      ]
    },
    {
      "cell_type": "code",
      "source": [
        "plot_model(Conv_model)"
      ],
      "metadata": {
        "id": "BkD1BSHd9hH-",
        "colab": {
          "base_uri": "https://localhost:8080/",
          "height": 758
        },
        "outputId": "0cda9202-7443-44e4-9801-e3774656706d"
      },
      "execution_count": 33,
      "outputs": [
        {
          "output_type": "execute_result",
          "data": {
            "image/png": "[encoded data removed]",
            "text/plain": [
              "<IPython.core.display.Image object>"
            ]
          },
          "metadata": {},
          "execution_count": 33
        }
      ]
    },
    {
      "cell_type": "code",
      "source": [
        "models_name = {}\n",
        "models_name[0] = 'Fully Connected Model'\n",
        "models_name[1] = 'Convolutional Model'\n",
        "\n",
        "for i, model in enumerate([fc_model, Conv_model]):\n",
        "    print(models_name[i])\n",
        "    plot_model(model)\n",
        "    model.compile(\n",
        "        loss='categorical_crossentropy',\n",
        "        optimizer=keras.optimizers.Adam(learning_rate=2e-3),\n",
        "        metrics=['accuracy'] \n",
        "    )   \n",
        "    model.fit(x_train, y_train, epochs=5)\n",
        "    print('\\n')\n",
        "    print('Loss and Accuracy on Test set : ')\n",
        "    model.evaluate(x_test, y_test)\n",
        "    print('\\n')\n"
      ],
      "metadata": {
        "id": "A8of1QIv9rV8",
        "colab": {
          "base_uri": "https://localhost:8080/"
        },
        "outputId": "ad54d0dc-cb8e-432b-fb48-d2d4547f4353"
      },
      "execution_count": 40,
      "outputs": [
        {
          "output_type": "stream",
          "name": "stdout",
          "text": [
            "Fully Connected Model\n",
            "Epoch 1/5\n",
            "1563/1563 [==============================] - 5s 3ms/step - loss: 3.9840 - accuracy: 0.1721\n",
            "Epoch 2/5\n",
            "1563/1563 [==============================] - 5s 3ms/step - loss: 3.4581 - accuracy: 0.2134\n",
            "Epoch 3/5\n",
            "1563/1563 [==============================] - 5s 3ms/step - loss: 3.4365 - accuracy: 0.1979\n",
            "Epoch 4/5\n",
            "1563/1563 [==============================] - 5s 3ms/step - loss: 3.5333 - accuracy: 0.1818\n",
            "Epoch 5/5\n",
            "1563/1563 [==============================] - 5s 3ms/step - loss: 3.4812 - accuracy: 0.1281\n",
            "\n",
            "\n",
            "Loss and Accuracy on Test set : \n",
            "313/313 [==============================] - 1s 2ms/step - loss: 3.4277 - accuracy: 0.1645\n",
            "\n",
            "\n",
            "Convolutional Model\n",
            "Epoch 1/5\n",
            "1563/1563 [==============================] - 7s 4ms/step - loss: 3.4686 - accuracy: 0.2066\n",
            "Epoch 2/5\n",
            "1563/1563 [==============================] - 8s 5ms/step - loss: 3.4977 - accuracy: 0.1632\n",
            "Epoch 3/5\n",
            "1563/1563 [==============================] - 7s 4ms/step - loss: 3.3640 - accuracy: 0.2255\n",
            "Epoch 4/5\n",
            "1563/1563 [==============================] - 7s 5ms/step - loss: 3.3548 - accuracy: 0.2362\n",
            "Epoch 5/5\n",
            "1563/1563 [==============================] - 7s 4ms/step - loss: 3.3600 - accuracy: 0.1904\n",
            "\n",
            "\n",
            "Loss and Accuracy on Test set : \n",
            "313/313 [==============================] - 1s 3ms/step - loss: 3.3275 - accuracy: 0.2076\n",
            "\n",
            "\n"
          ]
        }
      ]
    },
    {
      "cell_type": "markdown",
      "source": [
        "#Q3"
      ],
      "metadata": {
        "id": "0GlSGw2eQWkI"
      }
    },
    {
      "cell_type": "code",
      "source": [
        "import tensorflow as tf\n",
        "import cv2\n",
        "import os \n",
        "import matplotlib.pyplot as plt"
      ],
      "metadata": {
        "id": "TWE2DiIeszyj"
      },
      "execution_count": 2,
      "outputs": []
    },
    {
      "cell_type": "code",
      "source": [
        "!rm -r sample_data"
      ],
      "metadata": {
        "id": "b4LZXoD8nhIZ"
      },
      "execution_count": 3,
      "outputs": []
    },
    {
      "cell_type": "code",
      "source": [
        "!gdown \"1Y2CM201yphBcdovvheDkEn9Bzu6IXeUZ&confirm=t\""
      ],
      "metadata": {
        "id": "m7HREJlcVfvo",
        "colab": {
          "base_uri": "https://localhost:8080/"
        },
        "outputId": "f1fc6cdd-0bc1-47fc-af62-eaa47701f4bc"
      },
      "execution_count": 4,
      "outputs": [
        {
          "output_type": "stream",
          "name": "stdout",
          "text": [
            "Downloading...\n",
            "From: https://drive.google.com/uc?id=1Y2CM201yphBcdovvheDkEn9Bzu6IXeUZ&confirm=t\n",
            "To: /content/fruits-360-original-size.zip\n",
            "100% 579M/579M [00:06<00:00, 90.6MB/s]\n"
          ]
        }
      ]
    },
    {
      "cell_type": "code",
      "source": [
        "!unzip fruits-360-original-size.zip"
      ],
      "metadata": {
        "id": "aXPIYYfVnkcd"
      },
      "execution_count": null,
      "outputs": []
    },
    {
      "cell_type": "markdown",
      "source": [
        "## A : complete resize image"
      ],
      "metadata": {
        "id": "EkR0BEdj9olP"
      }
    },
    {
      "cell_type": "code",
      "source": [
        "BASE_PATH = '/content/fruits-360-original-size/'\n",
        "\n",
        "# path to the train folder\n",
        "DATA_TRAIN_PATH = os.path.join(BASE_PATH, 'Training')\n",
        "\n",
        "# path to the test folder \n",
        "DATA_TEST_PATH = os.path.join(BASE_PATH, 'Test')"
      ],
      "metadata": {
        "id": "czACR9kYoVC8"
      },
      "execution_count": 6,
      "outputs": []
    },
    {
      "cell_type": "code",
      "source": [
        "def resize_img(img, desired_size = 224):\n",
        "    # write your code here\n",
        "    border_v = 0\n",
        "    border_h = 0\n",
        "    if 1 >= (img.shape[0]/img.shape[1]):\n",
        "        border_v = int(\n",
        "            (img.shape[1]-img.shape[0])/2\n",
        "            )\n",
        "    else:\n",
        "        border_h = int(\n",
        "          (img.shape[0]-img.shape[1])/2\n",
        "          )\n",
        "    img = cv2.copyMakeBorder(img, border_v, border_v, border_h, border_h, cv2.BORDER_CONSTANT, 0)\n",
        "    new_img = cv2.resize(img, (desired_size, desired_size))\n",
        "    return new_img"
      ],
      "metadata": {
        "id": "D07DQJ0Bptjb"
      },
      "execution_count": 12,
      "outputs": []
    },
    {
      "cell_type": "code",
      "source": [
        "path = '/content/fruits-360-original-size/Training/carrot_1/r0_136.jpg'\n",
        "img = cv2.imread(path)[:,:,::-1]\n",
        "plt.imshow(img)\n",
        "plt.show()"
      ],
      "metadata": {
        "id": "MVYOhNXFo3p5",
        "colab": {
          "base_uri": "https://localhost:8080/",
          "height": 269
        },
        "outputId": "2a13f637-0d6a-487d-e552-b5f6dad5c631"
      },
      "execution_count": 8,
      "outputs": [
        {
          "output_type": "display_data",
          "data": {
            "text/plain": [
              "<Figure size 432x288 with 1 Axes>"
            ],
            "image/png": "[encoded data removed]"
          },
          "metadata": {
            "needs_background": "light"
          }
        }
      ]
    },
    {
      "cell_type": "code",
      "source": [
        "new_img = resize_img(img)\n",
        "plt.imshow(new_img)"
      ],
      "metadata": {
        "id": "8rmykk8Rqhr7",
        "colab": {
          "base_uri": "https://localhost:8080/",
          "height": 287
        },
        "outputId": "5d5ee0a6-8411-4057-e24f-52f9962e5a8f"
      },
      "execution_count": 13,
      "outputs": [
        {
          "output_type": "execute_result",
          "data": {
            "text/plain": [
              "<matplotlib.image.AxesImage at 0x7f17aaee4be0>"
            ]
          },
          "metadata": {},
          "execution_count": 13
        },
        {
          "output_type": "display_data",
          "data": {
            "text/plain": [
              "<Figure size 432x288 with 1 Axes>"
            ],
            "image/png": "[encoded data removed]"
          },
          "metadata": {
            "needs_background": "light"
          }
        }
      ]
    },
    {
      "cell_type": "markdown",
      "source": [
        "## Image Data generator"
      ],
      "metadata": {
        "id": "WC60fnUP9uwZ"
      }
    },
    {
      "cell_type": "code",
      "source": [
        "import tensorflow.keras.preprocessing.image as IM\n",
        "\n",
        "train_datagen = IM.ImageDataGenerator(rescale=1./255,\n",
        "    preprocessing_function=resize_img)\n",
        "\n",
        "test_datagen = IM.ImageDataGenerator(rescale=1./255,\n",
        "    preprocessing_function=resize_img)\n",
        "\n",
        "train_generator  = train_datagen.flow_from_directory(DATA_TRAIN_PATH,batch_size=96,target_size=(224,224))\n",
        "test_generator  = test_datagen.flow_from_directory(DATA_TEST_PATH,batch_size=96,target_size=(224,224))"
      ],
      "metadata": {
        "colab": {
          "base_uri": "https://localhost:8080/"
        },
        "id": "ecZcddSJnq2T",
        "outputId": "ae247b12-6204-4108-b06e-96aef73396aa"
      },
      "execution_count": 14,
      "outputs": [
        {
          "output_type": "stream",
          "name": "stdout",
          "text": [
            "Found 6231 images belonging to 24 classes.\n",
            "Found 3110 images belonging to 24 classes.\n"
          ]
        }
      ]
    },
    {
      "cell_type": "markdown",
      "source": [
        "## B : Resnet50 with random weigts"
      ],
      "metadata": {
        "id": "VY25lCxR8l4o"
      }
    },
    {
      "cell_type": "code",
      "source": [
        "# YOU CAN CHANGE IT\n",
        "EPOCHS = 30"
      ],
      "metadata": {
        "id": "ayuILFJT8RZP"
      },
      "execution_count": null,
      "outputs": []
    },
    {
      "cell_type": "code",
      "source": [
        "def add_block(model , x):\n",
        "\n",
        "  model.add(Conv2D(filters=x,kernel_size=1,padding= 'valid',strides = 2 ,activation='relu'))\n",
        "  model.add(Conv2D(filters=x,kernel_size=3,padding= 'valid',strides = 1 ,activation='relu'))\n",
        "  model.add(Conv2D(filters=x*4,kernel_size=1,padding= 'valid',strides = 1 ,activation='relu'))\n",
        "\n",
        "  for _ in range(2):\n",
        "    model.add(Conv2D(filters=x,kernel_size=1,padding= 'valid',strides = 1 ,activation='relu'))\n",
        "    model.add(Conv2D(filters=x,kernel_size=3,padding= 'valid',strides = 1 ,activation='relu'))\n",
        "    model.add(Conv2D(filters=x*4,kernel_size=1,padding= 'valid',strides = 1 ,activation='relu'))"
      ],
      "metadata": {
        "id": "bmZelUUMVNzR"
      },
      "execution_count": 17,
      "outputs": []
    },
    {
      "cell_type": "code",
      "source": [
        "from tensorflow.keras.applications.resnet50 import ResNet50"
      ],
      "metadata": {
        "id": "rcgW2e8qZ4RB"
      },
      "execution_count": 36,
      "outputs": []
    },
    {
      "cell_type": "code",
      "source": [
        "resnet = tf.keras.models.Sequential()\n",
        "# Write your code here\n",
        "resnet.add( ResNet50(weights='imagenet') )\n",
        "\n",
        "resnet.summary()"
      ],
      "metadata": {
        "id": "X5y_nU9V52Sm",
        "colab": {
          "base_uri": "https://localhost:8080/"
        },
        "outputId": "9d71fbbe-a8b8-4889-b9c5-f61db109c43c"
      },
      "execution_count": 39,
      "outputs": [
        {
          "output_type": "stream",
          "name": "stdout",
          "text": [
            "Model: \"sequential_13\"\n",
            "_________________________________________________________________\n",
            " Layer (type)                Output Shape              Param #   \n",
            "=================================================================\n",
            " resnet50 (Functional)       (None, 1000)              25636712  \n",
            "                                                                 \n",
            "=================================================================\n",
            "Total params: 25,636,712\n",
            "Trainable params: 25,583,592\n",
            "Non-trainable params: 53,120\n",
            "_________________________________________________________________\n"
          ]
        }
      ]
    },
    {
      "cell_type": "code",
      "source": [
        "loss = tf.keras.losses.CategoricalCrossentropy()\n",
        "optimizer = tf.keras.optimizers.Adam()\n",
        "resnet.compile(loss= loss, optimizer= optimizer, metrics=\"acc\")"
      ],
      "metadata": {
        "id": "qeF2HFQa8C4w"
      },
      "execution_count": 40,
      "outputs": []
    },
    {
      "cell_type": "code",
      "source": [
        "resnet.fit(train_generator, epochs=1)"
      ],
      "metadata": {
        "id": "1aTWQVfN8OPI",
        "colab": {
          "base_uri": "https://localhost:8080/",
          "height": 1000
        },
        "outputId": "a6d1b333-d35b-4665-f092-0eabfd452962"
      },
      "execution_count": 41,
      "outputs": [
        {
          "output_type": "error",
          "ename": "InvalidArgumentError",
          "evalue": "ignored",
          "traceback": [
            "\u001b[0;31m---------------------------------------------------------------------------\u001b[0m",
            "\u001b[0;31mInvalidArgumentError\u001b[0m                      Traceback (most recent call last)",
            "\u001b[0;32m<ipython-input-41-292a53fd1c74>\u001b[0m in \u001b[0;36m<module>\u001b[0;34m\u001b[0m\n\u001b[0;32m----> 1\u001b[0;31m \u001b[0mresnet\u001b[0m\u001b[0;34m.\u001b[0m\u001b[0mfit\u001b[0m\u001b[0;34m(\u001b[0m\u001b[0mtrain_generator\u001b[0m\u001b[0;34m,\u001b[0m \u001b[0mepochs\u001b[0m\u001b[0;34m=\u001b[0m\u001b[0;36m1\u001b[0m\u001b[0;34m)\u001b[0m\u001b[0;34m\u001b[0m\u001b[0;34m\u001b[0m\u001b[0m\n\u001b[0m",
            "\u001b[0;32m/usr/local/lib/python3.8/dist-packages/keras/utils/traceback_utils.py\u001b[0m in \u001b[0;36merror_handler\u001b[0;34m(*args, **kwargs)\u001b[0m\n\u001b[1;32m     65\u001b[0m     \u001b[0;32mexcept\u001b[0m \u001b[0mException\u001b[0m \u001b[0;32mas\u001b[0m \u001b[0me\u001b[0m\u001b[0;34m:\u001b[0m  \u001b[0;31m# pylint: disable=broad-except\u001b[0m\u001b[0;34m\u001b[0m\u001b[0;34m\u001b[0m\u001b[0m\n\u001b[1;32m     66\u001b[0m       \u001b[0mfiltered_tb\u001b[0m \u001b[0;34m=\u001b[0m \u001b[0m_process_traceback_frames\u001b[0m\u001b[0;34m(\u001b[0m\u001b[0me\u001b[0m\u001b[0;34m.\u001b[0m\u001b[0m__traceback__\u001b[0m\u001b[0;34m)\u001b[0m\u001b[0;34m\u001b[0m\u001b[0;34m\u001b[0m\u001b[0m\n\u001b[0;32m---> 67\u001b[0;31m       \u001b[0;32mraise\u001b[0m \u001b[0me\u001b[0m\u001b[0;34m.\u001b[0m\u001b[0mwith_traceback\u001b[0m\u001b[0;34m(\u001b[0m\u001b[0mfiltered_tb\u001b[0m\u001b[0;34m)\u001b[0m \u001b[0;32mfrom\u001b[0m \u001b[0;32mNone\u001b[0m\u001b[0;34m\u001b[0m\u001b[0;34m\u001b[0m\u001b[0m\n\u001b[0m\u001b[1;32m     68\u001b[0m     \u001b[0;32mfinally\u001b[0m\u001b[0;34m:\u001b[0m\u001b[0;34m\u001b[0m\u001b[0;34m\u001b[0m\u001b[0m\n\u001b[1;32m     69\u001b[0m       \u001b[0;32mdel\u001b[0m \u001b[0mfiltered_tb\u001b[0m\u001b[0;34m\u001b[0m\u001b[0;34m\u001b[0m\u001b[0m\n",
            "\u001b[0;32m/usr/local/lib/python3.8/dist-packages/tensorflow/python/eager/execute.py\u001b[0m in \u001b[0;36mquick_execute\u001b[0;34m(op_name, num_outputs, inputs, attrs, ctx, name)\u001b[0m\n\u001b[1;32m     52\u001b[0m   \u001b[0;32mtry\u001b[0m\u001b[0;34m:\u001b[0m\u001b[0;34m\u001b[0m\u001b[0;34m\u001b[0m\u001b[0m\n\u001b[1;32m     53\u001b[0m     \u001b[0mctx\u001b[0m\u001b[0;34m.\u001b[0m\u001b[0mensure_initialized\u001b[0m\u001b[0;34m(\u001b[0m\u001b[0;34m)\u001b[0m\u001b[0;34m\u001b[0m\u001b[0;34m\u001b[0m\u001b[0m\n\u001b[0;32m---> 54\u001b[0;31m     tensors = pywrap_tfe.TFE_Py_Execute(ctx._handle, device_name, op_name,\n\u001b[0m\u001b[1;32m     55\u001b[0m                                         inputs, attrs, num_outputs)\n\u001b[1;32m     56\u001b[0m   \u001b[0;32mexcept\u001b[0m \u001b[0mcore\u001b[0m\u001b[0;34m.\u001b[0m\u001b[0m_NotOkStatusException\u001b[0m \u001b[0;32mas\u001b[0m \u001b[0me\u001b[0m\u001b[0;34m:\u001b[0m\u001b[0;34m\u001b[0m\u001b[0;34m\u001b[0m\u001b[0m\n",
            "\u001b[0;31mInvalidArgumentError\u001b[0m: Graph execution error:\n\nDetected at node 'categorical_crossentropy/softmax_cross_entropy_with_logits' defined at (most recent call last):\n    File \"/usr/lib/python3.8/runpy.py\", line 194, in _run_module_as_main\n      return _run_code(code, main_globals, None,\n    File \"/usr/lib/python3.8/runpy.py\", line 87, in _run_code\n      exec(code, run_globals)\n    File \"/usr/local/lib/python3.8/dist-packages/ipykernel_launcher.py\", line 16, in <module>\n      app.launch_new_instance()\n    File \"/usr/local/lib/python3.8/dist-packages/traitlets/config/application.py\", line 992, in launch_instance\n      app.start()\n    File \"/usr/local/lib/python3.8/dist-packages/ipykernel/kernelapp.py\", line 612, in start\n      self.io_loop.start()\n    File \"/usr/local/lib/python3.8/dist-packages/tornado/platform/asyncio.py\", line 149, in start\n      self.asyncio_loop.run_forever()\n    File \"/usr/lib/python3.8/asyncio/base_events.py\", line 570, in run_forever\n      self._run_once()\n    File \"/usr/lib/python3.8/asyncio/base_events.py\", line 1859, in _run_once\n      handle._run()\n    File \"/usr/lib/python3.8/asyncio/events.py\", line 81, in _run\n      self._context.run(self._callback, *self._args)\n    File \"/usr/local/lib/python3.8/dist-packages/tornado/ioloop.py\", line 690, in <lambda>\n      lambda f: self._run_callback(functools.partial(callback, future))\n    File \"/usr/local/lib/python3.8/dist-packages/tornado/ioloop.py\", line 743, in _run_callback\n      ret = callback()\n    File \"/usr/local/lib/python3.8/dist-packages/tornado/gen.py\", line 787, in inner\n      self.run()\n    File \"/usr/local/lib/python3.8/dist-packages/tornado/gen.py\", line 748, in run\n      yielded = self.gen.send(value)\n    File \"/usr/local/lib/python3.8/dist-packages/ipykernel/kernelbase.py\", line 365, in process_one\n      yield gen.maybe_future(dispatch(*args))\n    File \"/usr/local/lib/python3.8/dist-packages/tornado/gen.py\", line 209, in wrapper\n      yielded = next(result)\n    File \"/usr/local/lib/python3.8/dist-packages/ipykernel/kernelbase.py\", line 268, in dispatch_shell\n      yield gen.maybe_future(handler(stream, idents, msg))\n    File \"/usr/local/lib/python3.8/dist-packages/tornado/gen.py\", line 209, in wrapper\n      yielded = next(result)\n    File \"/usr/local/lib/python3.8/dist-packages/ipykernel/kernelbase.py\", line 543, in execute_request\n      self.do_execute(\n    File \"/usr/local/lib/python3.8/dist-packages/tornado/gen.py\", line 209, in wrapper\n      yielded = next(result)\n    File \"/usr/local/lib/python3.8/dist-packages/ipykernel/ipkernel.py\", line 306, in do_execute\n      res = shell.run_cell(code, store_history=store_history, silent=silent)\n    File \"/usr/local/lib/python3.8/dist-packages/ipykernel/zmqshell.py\", line 536, in run_cell\n      return super(ZMQInteractiveShell, self).run_cell(*args, **kwargs)\n    File \"/usr/local/lib/python3.8/dist-packages/IPython/core/interactiveshell.py\", line 2854, in run_cell\n      result = self._run_cell(\n    File \"/usr/local/lib/python3.8/dist-packages/IPython/core/interactiveshell.py\", line 2881, in _run_cell\n      return runner(coro)\n    File \"/usr/local/lib/python3.8/dist-packages/IPython/core/async_helpers.py\", line 68, in _pseudo_sync_runner\n      coro.send(None)\n    File \"/usr/local/lib/python3.8/dist-packages/IPython/core/interactiveshell.py\", line 3057, in run_cell_async\n      has_raised = await self.run_ast_nodes(code_ast.body, cell_name,\n    File \"/usr/local/lib/python3.8/dist-packages/IPython/core/interactiveshell.py\", line 3249, in run_ast_nodes\n      if (await self.run_code(code, result,  async_=asy)):\n    File \"/usr/local/lib/python3.8/dist-packages/IPython/core/interactiveshell.py\", line 3326, in run_code\n      exec(code_obj, self.user_global_ns, self.user_ns)\n    File \"<ipython-input-41-292a53fd1c74>\", line 1, in <module>\n      resnet.fit(train_generator, epochs=1)\n    File \"/usr/local/lib/python3.8/dist-packages/keras/utils/traceback_utils.py\", line 64, in error_handler\n      return fn(*args, **kwargs)\n    File \"/usr/local/lib/python3.8/dist-packages/keras/engine/training.py\", line 1409, in fit\n      tmp_logs = self.train_function(iterator)\n    File \"/usr/local/lib/python3.8/dist-packages/keras/engine/training.py\", line 1051, in train_function\n      return step_function(self, iterator)\n    File \"/usr/local/lib/python3.8/dist-packages/keras/engine/training.py\", line 1040, in step_function\n      outputs = model.distribute_strategy.run(run_step, args=(data,))\n    File \"/usr/local/lib/python3.8/dist-packages/keras/engine/training.py\", line 1030, in run_step\n      outputs = model.train_step(data)\n    File \"/usr/local/lib/python3.8/dist-packages/keras/engine/training.py\", line 890, in train_step\n      loss = self.compute_loss(x, y, y_pred, sample_weight)\n    File \"/usr/local/lib/python3.8/dist-packages/keras/engine/training.py\", line 948, in compute_loss\n      return self.compiled_loss(\n    File \"/usr/local/lib/python3.8/dist-packages/keras/engine/compile_utils.py\", line 201, in __call__\n      loss_value = loss_obj(y_t, y_p, sample_weight=sw)\n    File \"/usr/local/lib/python3.8/dist-packages/keras/losses.py\", line 139, in __call__\n      losses = call_fn(y_true, y_pred)\n    File \"/usr/local/lib/python3.8/dist-packages/keras/losses.py\", line 243, in call\n      return ag_fn(y_true, y_pred, **self._fn_kwargs)\n    File \"/usr/local/lib/python3.8/dist-packages/keras/losses.py\", line 1787, in categorical_crossentropy\n      return backend.categorical_crossentropy(\n    File \"/usr/local/lib/python3.8/dist-packages/keras/backend.py\", line 5134, in categorical_crossentropy\n      return tf.nn.softmax_cross_entropy_with_logits(\nNode: 'categorical_crossentropy/softmax_cross_entropy_with_logits'\nlogits and labels must be broadcastable: logits_size=[96,1000] labels_size=[96,24]\n\t [[{{node categorical_crossentropy/softmax_cross_entropy_with_logits}}]] [Op:__inference_train_function_21865]"
          ]
        }
      ]
    },
    {
      "cell_type": "markdown",
      "source": [
        "## C : Fine-tune Resnet50 on fruits dataset."
      ],
      "metadata": {
        "id": "kl1lESTv8uZJ"
      }
    },
    {
      "cell_type": "code",
      "source": [
        "fine_tune_resnet = tf.keras.models.Sequential()\n",
        "# write your code here \n",
        "\n",
        "fine_tune_resnet.summary()\n"
      ],
      "metadata": {
        "id": "zepWgjspppW1"
      },
      "execution_count": null,
      "outputs": []
    },
    {
      "cell_type": "code",
      "source": [
        "loss = tf.keras.losses.CategoricalCrossentropy()\n",
        "optimizer = tf.keras.optimizers.Adam()\n",
        "fine_tune_resnet.compile(loss= loss, optimizer= optimizer, metrics=\"acc\")"
      ],
      "metadata": {
        "id": "6w0GV-smxgpD"
      },
      "execution_count": null,
      "outputs": []
    },
    {
      "cell_type": "code",
      "source": [
        "fine_tune_resnet.fit(train_generator, epochs=1)"
      ],
      "metadata": {
        "id": "MU6Ur3xoyI6O"
      },
      "execution_count": null,
      "outputs": []
    },
    {
      "cell_type": "markdown",
      "source": [
        "## Test models"
      ],
      "metadata": {
        "id": "1tHdp2M6_3c6"
      }
    },
    {
      "cell_type": "code",
      "source": [
        "resnet.evaluate(test_generator)"
      ],
      "metadata": {
        "id": "epoBuiG48dki"
      },
      "execution_count": null,
      "outputs": []
    },
    {
      "cell_type": "code",
      "source": [
        "fine_tune_resnet.evaluate(test_generator)"
      ],
      "metadata": {
        "id": "K09b3maVvmM-"
      },
      "execution_count": null,
      "outputs": []
    }
  ]
}