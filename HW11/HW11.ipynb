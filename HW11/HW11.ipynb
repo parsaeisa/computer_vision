{
  "nbformat": 4,
  "nbformat_minor": 0,
  "metadata": {
    "colab": {
      "provenance": []
    },
    "kernelspec": {
      "name": "python3",
      "display_name": "Python 3"
    },
    "language_info": {
      "name": "python"
    },
    "gpuClass": "standard",
    "accelerator": "GPU"
  },
  "cells": [
    {
      "cell_type": "markdown",
      "source": [
        "#Q2"
      ],
      "metadata": {
        "id": "Qq9GTCPRQUec"
      }
    },
    {
      "cell_type": "code",
      "execution_count": 20,
      "metadata": {
        "id": "U6idv-p1IkRv"
      },
      "outputs": [],
      "source": [
        "from tensorflow import keras\n",
        "import numpy as np \n",
        "import matplotlib.pyplot as plt\n",
        "from keras.utils.vis_utils import plot_model"
      ]
    },
    {
      "cell_type": "code",
      "source": [
        "# Load dataset\n",
        "(x_train, y_train), (x_test, y_test) = keras.datasets.cifar10.load_data()"
      ],
      "metadata": {
        "id": "ZboirzSo5CN5"
      },
      "execution_count": null,
      "outputs": []
    },
    {
      "cell_type": "code",
      "source": [
        "# Normalize data\n",
        "x_train = x_train.astype(float) / 255.\n",
        "x_test  = x_test.astype(float) / 255."
      ],
      "metadata": {
        "id": "FMYYX-aS5DPw"
      },
      "execution_count": null,
      "outputs": []
    },
    {
      "cell_type": "code",
      "source": [
        "# Visualize data\n",
        "plt.imshow(x_train[np.random.randint(len(x_train))])\n",
        "plt.show()"
      ],
      "metadata": {
        "id": "TBMtjNQ96dwI"
      },
      "execution_count": null,
      "outputs": []
    },
    {
      "cell_type": "code",
      "source": [
        "# Convert class vectors to binary class matrices.\n",
        "num_classes = 10\n",
        "print(\"Y[0] before converting : \" , y_train[0])\n",
        "y_train = keras.utils.to_categorical(y_train, num_classes)\n",
        "y_test = keras.utils.to_categorical(y_test, num_classes)\n",
        "print(\"Y[0] after converting : \" , y_train[0]) "
      ],
      "metadata": {
        "id": "tgo_K2Ve5IGT"
      },
      "execution_count": null,
      "outputs": []
    },
    {
      "cell_type": "code",
      "source": [
        "# Fully connected model\n",
        "fc_model = keras.Sequential()\n",
        "fc_model.add(keras.layers.Input(shape=x_train[0].shape))\n",
        "# Write your code here \n",
        "# Add Flatten layer and few Dense layers\n",
        "fc_model.summary()"
      ],
      "metadata": {
        "id": "UaFaTOUC5RRK"
      },
      "execution_count": null,
      "outputs": []
    },
    {
      "cell_type": "code",
      "source": [
        "plot_model(fc_model)"
      ],
      "metadata": {
        "id": "ffCa9BFA8VKj"
      },
      "execution_count": null,
      "outputs": []
    },
    {
      "cell_type": "code",
      "source": [
        "Conv_model = keras.Sequential()\n",
        "Conv_model.add(keras.layers.Input(shape=x_train[0].shape))\n",
        "# write your code here\n",
        "# add few Conv layers and Flatten layer\n",
        "# you can use pool layers after Conv layers\n",
        "Conv_model.summary()"
      ],
      "metadata": {
        "id": "zKlhESuB5QGW"
      },
      "execution_count": null,
      "outputs": []
    },
    {
      "cell_type": "code",
      "source": [
        "plot_model(Conv_model)"
      ],
      "metadata": {
        "id": "BkD1BSHd9hH-"
      },
      "execution_count": null,
      "outputs": []
    },
    {
      "cell_type": "code",
      "source": [
        "models_name = {}\n",
        "models_name[0] = 'Fully Connected Model'\n",
        "models_name[1] = 'Convolutional Model'\n",
        "\n",
        "for i, model in enumerate([fc_model, Conv_model]):\n",
        "    print(models_name[i])\n",
        "    plot_model(model)\n",
        "    model.compile(\n",
        "        loss='categorical_crossentropy',\n",
        "        optimizer=keras.optimizers.Adam(learning_rate=2e-3),\n",
        "        metrics=['accuracy'] \n",
        "    )   \n",
        "    model.fit(x_train, y_train, epochs=5)\n",
        "    print('\\n')\n",
        "    print('Loss and Accuracy on Test set : ')\n",
        "    model.evaluate(x_test, y_test)\n",
        "    print('\\n')\n"
      ],
      "metadata": {
        "id": "A8of1QIv9rV8"
      },
      "execution_count": null,
      "outputs": []
    },
    {
      "cell_type": "markdown",
      "source": [
        "#Q3"
      ],
      "metadata": {
        "id": "0GlSGw2eQWkI"
      }
    },
    {
      "cell_type": "code",
      "source": [
        "import tensorflow as tf\n",
        "import cv2\n",
        "import os \n",
        "import matplotlib.pyplot as plt"
      ],
      "metadata": {
        "id": "TWE2DiIeszyj"
      },
      "execution_count": 1,
      "outputs": []
    },
    {
      "cell_type": "code",
      "source": [
        "!rm -r sample_data"
      ],
      "metadata": {
        "id": "b4LZXoD8nhIZ"
      },
      "execution_count": 2,
      "outputs": []
    },
    {
      "cell_type": "code",
      "source": [
        "!gdown \"1Y2CM201yphBcdovvheDkEn9Bzu6IXeUZ&confirm=t\""
      ],
      "metadata": {
        "id": "m7HREJlcVfvo"
      },
      "execution_count": null,
      "outputs": []
    },
    {
      "cell_type": "code",
      "source": [
        "!unzip fruits-360-original-size.zip"
      ],
      "metadata": {
        "id": "aXPIYYfVnkcd"
      },
      "execution_count": null,
      "outputs": []
    },
    {
      "cell_type": "markdown",
      "source": [
        "## A : complete resize image"
      ],
      "metadata": {
        "id": "EkR0BEdj9olP"
      }
    },
    {
      "cell_type": "code",
      "source": [
        "BASE_PATH = '/content/fruits-360-original-size/'\n",
        "\n",
        "# path to the train folder\n",
        "DATA_TRAIN_PATH = os.path.join(BASE_PATH, 'Training')\n",
        "\n",
        "# path to the test folder \n",
        "DATA_TEST_PATH = os.path.join(BASE_PATH, 'Test')"
      ],
      "metadata": {
        "id": "czACR9kYoVC8"
      },
      "execution_count": null,
      "outputs": []
    },
    {
      "cell_type": "code",
      "source": [
        "def resize_img(img, desired_size = 224):\n",
        "    # write your code here\n",
        "    return new_img"
      ],
      "metadata": {
        "id": "D07DQJ0Bptjb"
      },
      "execution_count": 25,
      "outputs": []
    },
    {
      "cell_type": "code",
      "source": [
        "path = '/content/fruits-360-original-size/Training/carrot_1/r0_136.jpg'\n",
        "img = cv2.imread(path)[:,:,::-1]\n",
        "plt.imshow(img)\n",
        "plt.show()"
      ],
      "metadata": {
        "id": "MVYOhNXFo3p5"
      },
      "execution_count": null,
      "outputs": []
    },
    {
      "cell_type": "code",
      "source": [
        "new_img = resize_img(img)\n",
        "plt.imshow(new_img)"
      ],
      "metadata": {
        "id": "8rmykk8Rqhr7"
      },
      "execution_count": null,
      "outputs": []
    },
    {
      "cell_type": "markdown",
      "source": [
        "## Image Data generator"
      ],
      "metadata": {
        "id": "WC60fnUP9uwZ"
      }
    },
    {
      "cell_type": "code",
      "source": [
        "import tensorflow.keras.preprocessing.image as IM\n",
        "\n",
        "train_datagen = IM.ImageDataGenerator(rescale=1./255,\n",
        "    preprocessing_function=resize_img)\n",
        "\n",
        "test_datagen = IM.ImageDataGenerator(rescale=1./255,\n",
        "    preprocessing_function=resize_img)\n",
        "\n",
        "train_generator  = train_datagen.flow_from_directory(DATA_TRAIN_PATH,batch_size=96,target_size=(224,224))\n",
        "test_generator  = test_datagen.flow_from_directory(DATA_TEST_PATH,batch_size=96,target_size=(224,224))"
      ],
      "metadata": {
        "colab": {
          "base_uri": "https://localhost:8080/"
        },
        "id": "ecZcddSJnq2T",
        "outputId": "57c60ffa-46ab-4811-e37c-06475c108081"
      },
      "execution_count": 14,
      "outputs": [
        {
          "output_type": "stream",
          "name": "stdout",
          "text": [
            "Found 6231 images belonging to 24 classes.\n",
            "Found 3110 images belonging to 24 classes.\n"
          ]
        }
      ]
    },
    {
      "cell_type": "markdown",
      "source": [
        "## B : Resnet50 with random weigts"
      ],
      "metadata": {
        "id": "VY25lCxR8l4o"
      }
    },
    {
      "cell_type": "code",
      "source": [
        "# YOU CAN CHANGE IT\n",
        "EPOCHS = 30"
      ],
      "metadata": {
        "id": "ayuILFJT8RZP"
      },
      "execution_count": null,
      "outputs": []
    },
    {
      "cell_type": "code",
      "source": [
        "resnet = tf.keras.models.Sequential()\n",
        "# Write your code here\n",
        "resnet.summary()"
      ],
      "metadata": {
        "id": "X5y_nU9V52Sm"
      },
      "execution_count": null,
      "outputs": []
    },
    {
      "cell_type": "code",
      "source": [
        "loss = tf.keras.losses.CategoricalCrossentropy()\n",
        "optimizer = tf.keras.optimizers.Adam()\n",
        "resnet.compile(loss= loss, optimizer= optimizer, metrics=\"acc\")"
      ],
      "metadata": {
        "id": "qeF2HFQa8C4w"
      },
      "execution_count": null,
      "outputs": []
    },
    {
      "cell_type": "code",
      "source": [
        "resnet.fit(train_generator, epochs=1)"
      ],
      "metadata": {
        "id": "1aTWQVfN8OPI"
      },
      "execution_count": null,
      "outputs": []
    },
    {
      "cell_type": "markdown",
      "source": [
        "## C : Fine-tune Resnet50 on fruits dataset."
      ],
      "metadata": {
        "id": "kl1lESTv8uZJ"
      }
    },
    {
      "cell_type": "code",
      "source": [
        "fine_tune_resnet = tf.keras.models.Sequential()\n",
        "# write your code here \n",
        "\n",
        "fine_tune_resnet.summary()\n"
      ],
      "metadata": {
        "id": "zepWgjspppW1"
      },
      "execution_count": null,
      "outputs": []
    },
    {
      "cell_type": "code",
      "source": [
        "loss = tf.keras.losses.CategoricalCrossentropy()\n",
        "optimizer = tf.keras.optimizers.Adam()\n",
        "fine_tune_resnet.compile(loss= loss, optimizer= optimizer, metrics=\"acc\")"
      ],
      "metadata": {
        "id": "6w0GV-smxgpD"
      },
      "execution_count": 18,
      "outputs": []
    },
    {
      "cell_type": "code",
      "source": [
        "fine_tune_resnet.fit(train_generator, epochs=1)"
      ],
      "metadata": {
        "id": "MU6Ur3xoyI6O"
      },
      "execution_count": null,
      "outputs": []
    },
    {
      "cell_type": "markdown",
      "source": [
        "## Test models"
      ],
      "metadata": {
        "id": "1tHdp2M6_3c6"
      }
    },
    {
      "cell_type": "code",
      "source": [
        "resnet.evaluate(test_generator)"
      ],
      "metadata": {
        "id": "epoBuiG48dki"
      },
      "execution_count": null,
      "outputs": []
    },
    {
      "cell_type": "code",
      "source": [
        "fine_tune_resnet.evaluate(test_generator)"
      ],
      "metadata": {
        "id": "K09b3maVvmM-"
      },
      "execution_count": null,
      "outputs": []
    }
  ]
}